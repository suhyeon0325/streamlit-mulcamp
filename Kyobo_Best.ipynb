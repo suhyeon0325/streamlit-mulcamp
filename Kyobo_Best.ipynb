{
 "cells": [
  {
   "cell_type": "code",
   "execution_count": 4,
   "id": "6879c415-c884-4143-b9b2-4bba706e797a",
   "metadata": {},
   "outputs": [],
   "source": [
    "import requests\n",
    "import pandas as pd\n",
    "import bs4\n",
    "from bs4 import BeautifulSoup\n",
    "import warnings\n",
    "import time\n",
    "import random\n",
    "warnings.filterwarnings('ignore') "
   ]
  },
  {
   "cell_type": "code",
   "execution_count": 56,
   "id": "69eb535d-b42a-40bc-9463-f86fb5e1a0bc",
   "metadata": {},
   "outputs": [
    {
     "name": "stdout",
     "output_type": "stream",
     "text": [
      "Empty DataFrame\n",
      "Columns: [책 제목]\n",
      "Index: []\n"
     ]
    }
   ],
   "source": [
    "\n",
    "    url = 'https://product.kyobobook.co.kr/bestseller/online?period=001&page=1'\n",
    "    headers = { \n",
    "        'referer' : 'https://www.kyobobook.co.kr/',\n",
    "        'user-agent': 'Mozilla/5.0 (Windows NT 10.0; Win64; x64) AppleWebKit/537.36 (KHTML, like Gecko) Chrome/120.0.0.0 Safari/537.36'\n",
    "    }\n",
    "\n",
    "    response = requests.get(url, headers=headers)\n",
    "    soup = BeautifulSoup(response.text, 'lxml')\n",
    "\n",
    "    # 책 제목을 담을 리스트\n",
    "    best_100 = []\n",
    "    \n",
    "    # 'a' 태그와 'class=\"prod_info\"'를 가진 모든 요소를 찾아 책 제목 추출\n",
    "    for tag in soup.find_all('div', class_='auto_overflow_inner'):\n",
    "        best = tag.find('a').text.strip()\n",
    "        best_100.append(best)\n",
    "\n",
    "crawling_dict = {'책 제목': best_100}\n",
    "kyobo_best = pd.DataFrame(crawling_dict)\n",
    "print(kyobo_best)\n"
   ]
  },
  {
   "cell_type": "code",
   "execution_count": null,
   "id": "8aecc9be-2d79-4d45-b05e-2e52a32c5929",
   "metadata": {},
   "outputs": [],
   "source": []
  }
 ],
 "metadata": {
  "kernelspec": {
   "display_name": "Python 3 (ipykernel)",
   "language": "python",
   "name": "python3"
  },
  "language_info": {
   "codemirror_mode": {
    "name": "ipython",
    "version": 3
   },
   "file_extension": ".py",
   "mimetype": "text/x-python",
   "name": "python",
   "nbconvert_exporter": "python",
   "pygments_lexer": "ipython3",
   "version": "3.12.1"
  }
 },
 "nbformat": 4,
 "nbformat_minor": 5
}
